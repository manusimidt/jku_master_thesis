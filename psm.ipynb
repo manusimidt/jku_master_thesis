{
 "cells": [
  {
   "cell_type": "code",
   "execution_count": 137,
   "metadata": {},
   "outputs": [],
   "source": [
    "import torch\n",
    "import matplotlib.pylab as plt\n",
    "from jumping_env.env import VanillaEnv\n",
    "from typing import List\n",
    "from torchvision.utils import make_grid\n",
    "from rl.common.buffer2 import Transition, Episode\n",
    "import numpy as np"
   ]
  },
  {
   "cell_type": "code",
   "execution_count": 138,
   "metadata": {},
   "outputs": [],
   "source": [
    "def compare_imgs(a,b,title:str = \"\"):\n",
    "   f, axarr = plt.subplots(1,2)\n",
    "   axarr[0].imshow(np.flipud(a.squeeze()), cmap='gray', vmin=0., vmax=1.)\n",
    "   axarr[1].imshow(np.flipud(b.squeeze()), cmap='gray', vmin=0., vmax=1.)\n",
    "   if len(title) > 0: plt.title(title)\n",
    "   plt.show()"
   ]
  },
  {
   "cell_type": "code",
   "execution_count": 139,
   "metadata": {},
   "outputs": [],
   "source": [
    "def generate_expert_trajectories(env, n_episodes):\n",
    "    gamma = 0.99\n",
    "\n",
    "    episodes: List[Episode] = []\n",
    "\n",
    "    for i in range(n_episodes):\n",
    "        done = False\n",
    "        episode = Episode(discount=gamma)\n",
    "        obs = env.reset()\n",
    "        obstacle_position = env.actualEnv.obstacle_position\n",
    "        jumping_pixel = obstacle_position - 14\n",
    "        step = 0\n",
    "        while not done:\n",
    "            action = 1 if step == jumping_pixel else 0\n",
    "            next_obs, reward, done, _ = env.step(action)\n",
    "            episode.append(Transition(obs, action, reward, 0))\n",
    "            obs = next_obs\n",
    "            env.render()\n",
    "            step += 1\n",
    "\n",
    "        episodes.append(episode)\n",
    "    return episodes\n",
    "\n",
    "X = generate_expert_trajectories(VanillaEnv(configurations=[(38, 8)]), n_episodes=1)[0]\n",
    "Y = generate_expert_trajectories(VanillaEnv(configurations=[(22, 32)]), n_episodes=1)[0]\n",
    "X_action = X.actions()\n",
    "Y_action = Y.actions()"
   ]
  },
  {
   "cell_type": "code",
   "execution_count": 146,
   "metadata": {},
   "outputs": [
    {
     "name": "stdout",
     "output_type": "stream",
     "text": [
      "1.960299\n",
      "1.9702989999999998\n",
      "0.9702989999999999\n",
      "0.9702989999999999\n",
      "0.9702989999999999\n"
     ]
    }
   ],
   "source": [
    "def psm(x, y, gamma=0.99):\n",
    "    \"\"\"\n",
    "    Calculates the psm for the enire sequence (starting at the first element)\n",
    "    \"\"\"\n",
    "    x1 = x if len(x) == 1 else x[1:]\n",
    "    y1 = y if len(y) == 1 else y[1:]\n",
    "    tv = 0. if x[0] == y[0] else 1.\n",
    "    if(len(x1) == len(y1) == 1):\n",
    "        return tv\n",
    "    else:\n",
    "        return tv + gamma * psm(x1, y1, gamma)\n",
    "\n",
    "print(psm([0,0,0,1,0], [0,1,0,0,0]))\n",
    "print(psm([0,0,0,1,0], [1,0,0,0]))\n",
    "print(psm([0,0,0,1,0], [0,0,0]))\n",
    "print(psm([0,0,0,1,0], [0,0]))\n",
    "print(psm([0,0,0,1,0], [0]))\n"
   ]
  },
  {
   "cell_type": "code",
   "execution_count": 145,
   "metadata": {},
   "outputs": [
    {
     "name": "stdout",
     "output_type": "stream",
     "text": [
      "[0.92274469 0.93206535 0.94148015 0.95099005 0.96059601 0.970299\n",
      " 0.9801     0.99       1.         0.         0.         0.\n",
      " 0.         0.         0.         0.         0.         0.\n",
      " 0.         0.         0.         0.         0.         0.\n",
      " 0.         0.         0.         0.         0.         0.\n",
      " 0.         0.         0.         0.         0.         0.\n",
      " 0.         0.         0.         0.         0.         0.\n",
      " 0.         0.         0.         0.         0.         0.\n",
      " 0.         0.         0.         0.         0.         0.        ]\n"
     ]
    },
    {
     "data": {
      "image/png": "[encoded data removed]",
      "text/plain": [
       "<Figure size 640x480 with 2 Axes>"
      ]
     },
     "metadata": {},
     "output_type": "display_data"
    }
   ],
   "source": [
    "compare_idx = 50\n",
    "# Given the state at index compare_idx, which state in Y is most similar?\n",
    "\n",
    "psm_y = np.zeros(len(Y_action)-2)\n",
    "for i in range(len(Y_action)-2):\n",
    "    psm_y[i] = psm(X_action[compare_idx:], Y_action[i:])\n",
    "\n",
    "matching_idx = np.argmin(psm_y)\n",
    "print(psm_y)\n",
    "compare_imgs(X.transitions[compare_idx].state, Y.transitions[matching_idx+1].state, \"Left anchor state, right best matching state (PSM)\")\n"
   ]
  }
 ],
 "metadata": {
  "kernelspec": {
   "display_name": "master",
   "language": "python",
   "name": "python3"
  },
  "language_info": {
   "codemirror_mode": {
    "name": "ipython",
    "version": 3
   },
   "file_extension": ".py",
   "mimetype": "text/x-python",
   "name": "python",
   "nbconvert_exporter": "python",
   "pygments_lexer": "ipython3",
   "version": "3.9.7"
  },
  "orig_nbformat": 4
 },
 "nbformat": 4,
 "nbformat_minor": 2
}
