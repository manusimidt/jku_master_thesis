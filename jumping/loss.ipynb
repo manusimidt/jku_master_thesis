{
 "cells": [
  {
   "attachments": {},
   "cell_type": "markdown",
   "metadata": {},
   "source": [
    "$$\n",
    "\\frac{\\Gamma(x_y, y)\\exp(\\lambda s_\\theta(x_y,y))}{\\Gamma(x_y, y) \\exp(\\lambda s_\\theta(x_y, y)) + \\sum_{x \\in \\mathcal{X} \t\\setminus {x_y}} (1-\\Gamma(x, y))\\exp(\\lambda s_\\theta(x, y))}\n",
    "$$\n",
    "\n",
    "<br>\n",
    "\n",
    "$$\n",
    "\\begin{align}\n",
    "s_\\theta &= sim(z_\\theta(x), z_\\theta(y))\\\\\n",
    "\\Gamma(x,y) &= \\exp(-d(x,y)\\beta^{-1})\n",
    "\\end{align}\n",
    "$$\n",
    "\n",
    "<br>\n",
    "\n",
    "$$\n",
    "\\frac{\\exp(-d(x_y,y)\\beta^{-1})\\exp(\\lambda sim(z_\\theta(x_y), z_\\theta(y)))}{\\exp(-d(x_y,y)\\beta^{-1})\\exp(\\lambda sim(z_\\theta(x_y), z_\\theta(y))) + \\sum_{x \\in \\mathcal{X} \t\\setminus {x_y}} (1-\\exp(-d(x,y)\\beta^{-1}))\\exp(\\lambda sim(z_\\theta(x), z_\\theta(y))}\n",
    "$$"
   ]
  },
  {
   "attachments": {},
   "cell_type": "markdown",
   "metadata": {},
   "source": [
    "$$\n",
    "\\begin{align*}\n",
    "\\text{positive\\_x\\_logits} &= z_\\theta(x_y) \\\\\n",
    "\\text{target\\_logits} &= z_\\theta(y) \\\\\n",
    "\\text{negative\\_x\\_logits} &= z_\\theta(x \\in \\mathcal{X} \\setminus {x_y})\n",
    "\\\\[.8cm]\n",
    "\\text{positive\\_sim} &= s_\\theta(x_y, y)\n",
    "\\end{align*}\n",
    "$$"
   ]
  }
 ],
 "metadata": {
  "language_info": {
   "name": "python"
  },
  "orig_nbformat": 4
 },
 "nbformat": 4,
 "nbformat_minor": 2
}
