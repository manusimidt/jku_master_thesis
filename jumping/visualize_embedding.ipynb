{
 "cells": [
  {
   "cell_type": "code",
   "execution_count": 1,
   "id": "0433f93a",
   "metadata": {},
   "outputs": [],
   "source": [
    "import numpy as np\n",
    "import torch\n",
    "from env import VanillaEnv\n",
    "from policy import ActorNet\n",
    "from sklearn.manifold import TSNE, LocallyLinearEmbedding, MDS\n",
    "import seaborn as sns\n",
    "import pandas as pd\n",
    "import matplotlib.pyplot as plt\n",
    "import torch.nn as nn\n",
    "from env import generate_expert_episode"
   ]
  },
  {
   "cell_type": "code",
   "execution_count": 2,
   "id": "3a92cfb8",
   "metadata": {},
   "outputs": [],
   "source": [
    "def compare_imgs(a,b,c,title:str = \"\"):\n",
    "   f, axarr = plt.subplots(1,3)\n",
    "   axarr[0].imshow(np.flipud(a.squeeze()), cmap='gray', vmin=0., vmax=1.)\n",
    "   axarr[1].imshow(np.flipud(b.squeeze()), cmap='gray', vmin=0., vmax=1.)\n",
    "   axarr[2].imshow(np.flipud(c.squeeze()), cmap='gray', vmin=0., vmax=1.)\n",
    "   if len(title) > 0: plt.title(title)\n",
    "   plt.show()"
   ]
  },
  {
   "cell_type": "code",
   "execution_count": 3,
   "id": "5b511ea7",
   "metadata": {},
   "outputs": [
    {
     "data": {
      "text/plain": [
       "<All keys matched successfully>"
      ]
     },
     "execution_count": 3,
     "metadata": {},
     "output_type": "execute_result"
    }
   ],
   "source": [
    "model_name = './experiments/230801-074837/run-1.pth'\n",
    "\n",
    "# load the model\n",
    "ckp = torch.load(model_name)\n",
    "model = ActorNet()\n",
    "model.load_state_dict(ckp['state_dict'])"
   ]
  },
  {
   "cell_type": "code",
   "execution_count": 4,
   "id": "5f2deb13",
   "metadata": {},
   "outputs": [
    {
     "data": {
      "text/plain": [
       "(168, 1, 60, 60)"
      ]
     },
     "execution_count": 4,
     "metadata": {},
     "output_type": "execute_result"
    }
   ],
   "source": [
    "states_x, actions_x = generate_expert_episode(VanillaEnv(((25, 10),)))\n",
    "states_y, actions_y = generate_expert_episode(VanillaEnv(((25, 20),)))\n",
    "states_z, actions_z = generate_expert_episode(VanillaEnv(((40, 20),)))\n",
    "\n",
    "stacked_states = np.concatenate([states_x, states_y, states_z])\n",
    "stacked_actions = np.concatenate([actions_x, actions_y, actions_z])\n",
    "stacked_states.shape"
   ]
  },
  {
   "cell_type": "code",
   "execution_count": 5,
   "id": "9ddd2f16",
   "metadata": {},
   "outputs": [
    {
     "data": {
      "text/plain": [
       "torch.Size([168, 256])"
      ]
     },
     "execution_count": 5,
     "metadata": {},
     "output_type": "execute_result"
    }
   ],
   "source": [
    "embedding = model.f.forward(torch.from_numpy(stacked_states))\n",
    "embedding.shape"
   ]
  },
  {
   "cell_type": "code",
   "execution_count": 6,
   "id": "d97994ca",
   "metadata": {},
   "outputs": [
    {
     "data": {
      "text/plain": [
       "(168, 2)"
      ]
     },
     "execution_count": 6,
     "metadata": {},
     "output_type": "execute_result"
    }
   ],
   "source": [
    "n_components = 2\n",
    "tsne = TSNE(n_components, perplexity=10)\n",
    "tsne_result = tsne.fit_transform(embedding.detach().numpy())\n",
    "tsne_result.shape"
   ]
  },
  {
   "cell_type": "code",
   "execution_count": 7,
   "id": "7d24c6e2",
   "metadata": {},
   "outputs": [
    {
     "data": {
      "text/plain": [
       "168"
      ]
     },
     "execution_count": 7,
     "metadata": {},
     "output_type": "execute_result"
    }
   ],
   "source": [
    "# generate labels\n",
    "labels = ['trajectory x'] * 56 + ['trajectory y'] * 56 + ['trajectory z'] * 56 \n",
    "len(labels)"
   ]
  },
  {
   "cell_type": "code",
   "execution_count": 8,
   "id": "baee24ea",
   "metadata": {},
   "outputs": [
    {
     "data": {
      "text/plain": [
       "168"
      ]
     },
     "execution_count": 8,
     "metadata": {},
     "output_type": "execute_result"
    }
   ],
   "source": [
    "# generate point sizes\n",
    "size_arr = [10 + x * .5 for x in range(1,57)]\n",
    "size_arr = size_arr + size_arr + size_arr\n",
    "len(size_arr)"
   ]
  },
  {
   "cell_type": "code",
   "execution_count": 9,
   "metadata": {},
   "outputs": [],
   "source": [
    "jumping_states_embedding = tsne_result[np.array(stacked_actions, dtype=np.bool_), :]"
   ]
  },
  {
   "cell_type": "code",
   "execution_count": 10,
   "id": "7108b964",
   "metadata": {},
   "outputs": [
    {
     "data": {
      "text/html": [
       "<div>\n",
       "<style scoped>\n",
       "    .dataframe tbody tr th:only-of-type {\n",
       "        vertical-align: middle;\n",
       "    }\n",
       "\n",
       "    .dataframe tbody tr th {\n",
       "        vertical-align: top;\n",
       "    }\n",
       "\n",
       "    .dataframe thead th {\n",
       "        text-align: right;\n",
       "    }\n",
       "</style>\n",
       "<table border=\"1\" class=\"dataframe\">\n",
       "  <thead>\n",
       "    <tr style=\"text-align: right;\">\n",
       "      <th></th>\n",
       "      <th>tsne_1</th>\n",
       "      <th>tsne_2</th>\n",
       "      <th>label</th>\n",
       "    </tr>\n",
       "  </thead>\n",
       "  <tbody>\n",
       "    <tr>\n",
       "      <th>0</th>\n",
       "      <td>-0.071677</td>\n",
       "      <td>3.188017</td>\n",
       "      <td>jumping state x</td>\n",
       "    </tr>\n",
       "    <tr>\n",
       "      <th>1</th>\n",
       "      <td>0.179105</td>\n",
       "      <td>3.829665</td>\n",
       "      <td>jumping state y</td>\n",
       "    </tr>\n",
       "    <tr>\n",
       "      <th>2</th>\n",
       "      <td>0.460400</td>\n",
       "      <td>4.961302</td>\n",
       "      <td>jumping state z</td>\n",
       "    </tr>\n",
       "  </tbody>\n",
       "</table>\n",
       "</div>"
      ],
      "text/plain": [
       "     tsne_1    tsne_2            label\n",
       "0 -0.071677  3.188017  jumping state x\n",
       "1  0.179105  3.829665  jumping state y\n",
       "2  0.460400  4.961302  jumping state z"
      ]
     },
     "execution_count": 10,
     "metadata": {},
     "output_type": "execute_result"
    }
   ],
   "source": [
    "tsne_result_df = pd.DataFrame({'tsne_1': tsne_result[:,0], 'tsne_2': tsne_result[:,1], 'label': labels})\n",
    "tsne_jumping_df = pd.DataFrame({'tsne_1': jumping_states_embedding[:,0], 'tsne_2': jumping_states_embedding[:,1], 'label': ['jumping state x', 'jumping state y', 'jumping state z']})\n",
    "\n",
    "tsne_jumping_df"
   ]
  },
  {
   "cell_type": "code",
   "execution_count": 11,
   "id": "7c2fd5c5",
   "metadata": {},
   "outputs": [
    {
     "data": {
      "text/plain": [
       "<matplotlib.legend.Legend at 0x250925b7730>"
      ]
     },
     "execution_count": 11,
     "metadata": {},
     "output_type": "execute_result"
    },
    {
     "data": {
      "image/png": "[encoded data removed]",
      "text/plain": [
       "<Figure size 640x480 with 1 Axes>"
      ]
     },
     "metadata": {},
     "output_type": "display_data"
    }
   ],
   "source": [
    "fig, ax = plt.subplots(1)\n",
    "sns.scatterplot(x='tsne_1', y='tsne_2', hue='label', data=tsne_result_df, ax=ax,s=size_arr, palette=['blue','red','black'])\n",
    "sns.scatterplot(data=tsne_jumping_df, x='tsne_1', y='tsne_2', ax=ax, hue='label', marker=\"+\", s=300, palette=['blue','red','black'])\n",
    "lim = (tsne_result.min()-5, tsne_result.max()+5)\n",
    "ax.set_xlim(lim)\n",
    "# ax.set_ylim(lim)\n",
    "# ax.set_aspect('equal')\n",
    "ax.legend(bbox_to_anchor=(1.05, 1), loc=2, borderaxespad=0.0)"
   ]
  }
 ],
 "metadata": {
  "kernelspec": {
   "display_name": "Python 3 (ipykernel)",
   "language": "python",
   "name": "python3"
  },
  "language_info": {
   "codemirror_mode": {
    "name": "ipython",
    "version": 3
   },
   "file_extension": ".py",
   "mimetype": "text/x-python",
   "name": "python",
   "nbconvert_exporter": "python",
   "pygments_lexer": "ipython3",
   "version": "3.9.7"
  }
 },
 "nbformat": 4,
 "nbformat_minor": 5
}
