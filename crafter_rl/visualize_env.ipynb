{
 "cells": [
  {
   "cell_type": "code",
   "execution_count": 20,
   "metadata": {},
   "outputs": [],
   "source": [
    "from env import VanillaEnv, CrafterReplayBuffer, create_local_semantic\n",
    "import numpy as np\n",
    "import matplotlib.pyplot as plt\n",
    "import os\n",
    "import random\n",
    "import crafter"
   ]
  },
  {
   "cell_type": "code",
   "execution_count": 39,
   "metadata": {},
   "outputs": [
    {
     "name": "stderr",
     "output_type": "stream",
     "text": [
      "c:\\Users\\manus\\miniconda3\\envs\\master\\lib\\site-packages\\crafter\\engine.py:126: DeprecationWarning: Starting with ImageIO v3 the behavior of this function will switch to that of iio.v3.imread. To keep the current behavior (and make this warning disappear) use `import imageio.v2 as imageio` or call `imageio.v2.imread` directly.\n",
      "  image = imageio.imread(filename.read_bytes())\n",
      "c:\\Users\\manus\\miniconda3\\envs\\master\\lib\\site-packages\\crafter\\worldgen.py:12: DeprecationWarning: `np.bool` is a deprecated alias for the builtin `bool`. To silence this warning, use `bool` by itself. Doing this will not modify any behavior and is safe. If you specifically wanted the numpy scalar type, use `np.bool_` here.\n",
      "Deprecated in NumPy 1.20; for more details and guidance: https://numpy.org/devdocs/release/1.20.0-notes.html#deprecations\n",
      "  tunnels = np.zeros(world.area, np.bool)\n"
     ]
    },
    {
     "ename": "KeyboardInterrupt",
     "evalue": "",
     "output_type": "error",
     "traceback": [
      "\u001b[1;31m---------------------------------------------------------------------------\u001b[0m",
      "\u001b[1;31mKeyboardInterrupt\u001b[0m                         Traceback (most recent call last)",
      "\u001b[1;32mc:\\Users\\manus\\Code\\python\\master_thesis\\crafter_rl\\visualize_env.ipynb Cell 2\u001b[0m line \u001b[0;36m1\n\u001b[0;32m      <a href='vscode-notebook-cell:/c%3A/Users/manus/Code/python/master_thesis/crafter_rl/visualize_env.ipynb#W1sZmlsZQ%3D%3D?line=7'>8</a>\u001b[0m \u001b[39mwhile\u001b[39;00m \u001b[39mnot\u001b[39;00m done:\n\u001b[0;32m      <a href='vscode-notebook-cell:/c%3A/Users/manus/Code/python/master_thesis/crafter_rl/visualize_env.ipynb#W1sZmlsZQ%3D%3D?line=8'>9</a>\u001b[0m     action \u001b[39m=\u001b[39m np\u001b[39m.\u001b[39mrandom\u001b[39m.\u001b[39mrandint(low\u001b[39m=\u001b[39m\u001b[39m0\u001b[39m, high\u001b[39m=\u001b[39m\u001b[39m17\u001b[39m)\n\u001b[1;32m---> <a href='vscode-notebook-cell:/c%3A/Users/manus/Code/python/master_thesis/crafter_rl/visualize_env.ipynb#W1sZmlsZQ%3D%3D?line=9'>10</a>\u001b[0m     next_state, r, done, info \u001b[39m=\u001b[39m env\u001b[39m.\u001b[39mstep(action)\n\u001b[0;32m     <a href='vscode-notebook-cell:/c%3A/Users/manus/Code/python/master_thesis/crafter_rl/visualize_env.ipynb#W1sZmlsZQ%3D%3D?line=10'>11</a>\u001b[0m     rewards\u001b[39m.\u001b[39mappend(r)\n\u001b[0;32m     <a href='vscode-notebook-cell:/c%3A/Users/manus/Code/python/master_thesis/crafter_rl/visualize_env.ipynb#W1sZmlsZQ%3D%3D?line=11'>12</a>\u001b[0m     frames_arr\u001b[39m.\u001b[39mappend(state)\n",
      "\u001b[1;32mc:\\Users\\manus\\Code\\python\\master_thesis\\crafter_rl\\visualize_env.ipynb Cell 2\u001b[0m line \u001b[0;36m1\n\u001b[0;32m      <a href='vscode-notebook-cell:/c%3A/Users/manus/Code/python/master_thesis/crafter_rl/visualize_env.ipynb#W1sZmlsZQ%3D%3D?line=7'>8</a>\u001b[0m \u001b[39mwhile\u001b[39;00m \u001b[39mnot\u001b[39;00m done:\n\u001b[0;32m      <a href='vscode-notebook-cell:/c%3A/Users/manus/Code/python/master_thesis/crafter_rl/visualize_env.ipynb#W1sZmlsZQ%3D%3D?line=8'>9</a>\u001b[0m     action \u001b[39m=\u001b[39m np\u001b[39m.\u001b[39mrandom\u001b[39m.\u001b[39mrandint(low\u001b[39m=\u001b[39m\u001b[39m0\u001b[39m, high\u001b[39m=\u001b[39m\u001b[39m17\u001b[39m)\n\u001b[1;32m---> <a href='vscode-notebook-cell:/c%3A/Users/manus/Code/python/master_thesis/crafter_rl/visualize_env.ipynb#W1sZmlsZQ%3D%3D?line=9'>10</a>\u001b[0m     next_state, r, done, info \u001b[39m=\u001b[39m env\u001b[39m.\u001b[39mstep(action)\n\u001b[0;32m     <a href='vscode-notebook-cell:/c%3A/Users/manus/Code/python/master_thesis/crafter_rl/visualize_env.ipynb#W1sZmlsZQ%3D%3D?line=10'>11</a>\u001b[0m     rewards\u001b[39m.\u001b[39mappend(r)\n\u001b[0;32m     <a href='vscode-notebook-cell:/c%3A/Users/manus/Code/python/master_thesis/crafter_rl/visualize_env.ipynb#W1sZmlsZQ%3D%3D?line=11'>12</a>\u001b[0m     frames_arr\u001b[39m.\u001b[39mappend(state)\n",
      "File \u001b[1;32m_pydevd_bundle/pydevd_cython.pyx:1457\u001b[0m, in \u001b[0;36m_pydevd_bundle.pydevd_cython.SafeCallWrapper.__call__\u001b[1;34m()\u001b[0m\n",
      "File \u001b[1;32m_pydevd_bundle/pydevd_cython.pyx:701\u001b[0m, in \u001b[0;36m_pydevd_bundle.pydevd_cython.PyDBFrame.trace_dispatch\u001b[1;34m()\u001b[0m\n",
      "File \u001b[1;32m_pydevd_bundle/pydevd_cython.pyx:1152\u001b[0m, in \u001b[0;36m_pydevd_bundle.pydevd_cython.PyDBFrame.trace_dispatch\u001b[1;34m()\u001b[0m\n",
      "File \u001b[1;32m_pydevd_bundle/pydevd_cython.pyx:1135\u001b[0m, in \u001b[0;36m_pydevd_bundle.pydevd_cython.PyDBFrame.trace_dispatch\u001b[1;34m()\u001b[0m\n",
      "File \u001b[1;32m_pydevd_bundle/pydevd_cython.pyx:312\u001b[0m, in \u001b[0;36m_pydevd_bundle.pydevd_cython.PyDBFrame.do_wait_suspend\u001b[1;34m()\u001b[0m\n",
      "File \u001b[1;32mc:\\Users\\manus\\miniconda3\\envs\\master\\lib\\site-packages\\debugpy\\_vendored\\pydevd\\pydevd.py:2070\u001b[0m, in \u001b[0;36mPyDB.do_wait_suspend\u001b[1;34m(self, thread, frame, event, arg, exception_type)\u001b[0m\n\u001b[0;32m   2067\u001b[0m             from_this_thread\u001b[39m.\u001b[39mappend(frame_custom_thread_id)\n\u001b[0;32m   2069\u001b[0m     \u001b[39mwith\u001b[39;00m \u001b[39mself\u001b[39m\u001b[39m.\u001b[39m_threads_suspended_single_notification\u001b[39m.\u001b[39mnotify_thread_suspended(thread_id, thread, stop_reason):\n\u001b[1;32m-> 2070\u001b[0m         keep_suspended \u001b[39m=\u001b[39m \u001b[39mself\u001b[39;49m\u001b[39m.\u001b[39;49m_do_wait_suspend(thread, frame, event, arg, suspend_type, from_this_thread, frames_tracker)\n\u001b[0;32m   2072\u001b[0m frames_list \u001b[39m=\u001b[39m \u001b[39mNone\u001b[39;00m\n\u001b[0;32m   2074\u001b[0m \u001b[39mif\u001b[39;00m keep_suspended:\n\u001b[0;32m   2075\u001b[0m     \u001b[39m# This means that we should pause again after a set next statement.\u001b[39;00m\n",
      "File \u001b[1;32mc:\\Users\\manus\\miniconda3\\envs\\master\\lib\\site-packages\\debugpy\\_vendored\\pydevd\\pydevd.py:2106\u001b[0m, in \u001b[0;36mPyDB._do_wait_suspend\u001b[1;34m(self, thread, frame, event, arg, suspend_type, from_this_thread, frames_tracker)\u001b[0m\n\u001b[0;32m   2103\u001b[0m         \u001b[39mself\u001b[39m\u001b[39m.\u001b[39m_call_input_hook()\n\u001b[0;32m   2105\u001b[0m     \u001b[39mself\u001b[39m\u001b[39m.\u001b[39mprocess_internal_commands()\n\u001b[1;32m-> 2106\u001b[0m     time\u001b[39m.\u001b[39;49msleep(\u001b[39m0.01\u001b[39;49m)\n\u001b[0;32m   2108\u001b[0m \u001b[39mself\u001b[39m\u001b[39m.\u001b[39mcancel_async_evaluation(get_current_thread_id(thread), \u001b[39mstr\u001b[39m(\u001b[39mid\u001b[39m(frame)))\n\u001b[0;32m   2110\u001b[0m \u001b[39m# process any stepping instructions\u001b[39;00m\n",
      "\u001b[1;31mKeyboardInterrupt\u001b[0m: "
     ]
    }
   ],
   "source": [
    "env =  VanillaEnv(seed=4)\n",
    "env = crafter.Env()\n",
    "state = env.reset()\n",
    "done = False\n",
    "rewards = []\n",
    "frames_arr = []\n",
    "\n",
    "while not done:\n",
    "    action = np.random.randint(low=0, high=17)\n",
    "    next_state, r, done, info = env.step(action)\n",
    "    rewards.append(r)\n",
    "    frames_arr.append(state)\n",
    "    state = next_state\n",
    "    if done: \n",
    "        print(\"Done! Episode Reward: \", np.sum(rewards))\n",
    "        print(frames_arr[-1].shape)\n",
    "        # plt.imshow(np.moveaxis(frames_arr[0], 0, -1), vmin=0., vmax=1.)\n",
    "        plt.imshow(frames_arr[120])\n",
    "        break"
   ]
  },
  {
   "cell_type": "code",
   "execution_count": 22,
   "metadata": {},
   "outputs": [],
   "source": [
    "buffer = CrafterReplayBuffer('cpu', 0, './dataset')"
   ]
  },
  {
   "cell_type": "code",
   "execution_count": 23,
   "metadata": {},
   "outputs": [
    {
     "data": {
      "text/plain": [
       "<matplotlib.image.AxesImage at 0x241bd7d9820>"
      ]
     },
     "execution_count": 23,
     "metadata": {},
     "output_type": "execute_result"
    },
    {
     "data": {
      "image/png": "[encoded data removed]",
      "text/plain": [
       "<Figure size 640x480 with 1 Axes>"
      ]
     },
     "metadata": {},
     "output_type": "display_data"
    }
   ],
   "source": [
    "image, action = buffer.sample(1)\n",
    "plt.imshow(np.moveaxis(image.numpy().squeeze(), 0, -1), vmin=0., vmax=1.)"
   ]
  },
  {
   "cell_type": "code",
   "execution_count": 24,
   "metadata": {},
   "outputs": [
    {
     "data": {
      "text/plain": [
       "<matplotlib.image.AxesImage at 0x241bd8252b0>"
      ]
     },
     "execution_count": 24,
     "metadata": {},
     "output_type": "execute_result"
    },
    {
     "data": {
      "image/png": "[encoded data removed]",
      "text/plain": [
       "<Figure size 640x480 with 1 Axes>"
      ]
     },
     "metadata": {},
     "output_type": "display_data"
    }
   ],
   "source": [
    "import gym\n",
    "import crafter\n",
    "\n",
    "env = env = crafter.Env(seed=\"6alZBPJBjvEr2YMpv6VDbP\")  # Or CrafterNoReward-v1\n",
    "env = crafter.Recorder(\n",
    "  env, './path/to/logdir',\n",
    "  save_stats=True,\n",
    "  save_video=False,\n",
    "  save_episode=False,\n",
    ")\n",
    "obs = env.reset()\n",
    "plt.imshow(obs)\n"
   ]
  },
  {
   "cell_type": "code",
   "execution_count": 35,
   "metadata": {},
   "outputs": [
    {
     "data": {
      "image/png": "[encoded data removed]",
      "text/plain": [
       "<Figure size 640x480 with 1 Axes>"
      ]
     },
     "metadata": {},
     "output_type": "display_data"
    },
    {
     "name": "stdout",
     "output_type": "stream",
     "text": [
      "(9, 9)\n",
      "int8\n"
     ]
    },
    {
     "data": {
      "image/png": "[encoded data removed]",
      "text/plain": [
       "<Figure size 640x480 with 1 Axes>"
      ]
     },
     "metadata": {},
     "output_type": "display_data"
    }
   ],
   "source": [
    "with np.load(\"./dataset\" + os.sep + \"6alZBPJBjvEr2YMpv6VDbP.npz\") as data:\n",
    "    curr_idx = -100\n",
    "    plt.imshow(data['image'][curr_idx])\n",
    "    plt.show()\n",
    "    img = create_local_semantic(\n",
    "            data['semantic'][curr_idx], data['player_pos'][curr_idx][0], data['player_pos'][curr_idx][1],\n",
    "            data['inventory_health'][curr_idx], data['inventory_food'][curr_idx],\n",
    "            data['inventory_drink'][curr_idx], data['inventory_energy'][curr_idx],\n",
    "            data['inventory_sapling'][curr_idx], data['inventory_wood'][curr_idx],\n",
    "            data['inventory_stone'][curr_idx], data['inventory_coal'][curr_idx],\n",
    "            data['inventory_iron'][curr_idx], data['inventory_diamond'][curr_idx],\n",
    "            data['inventory_wood_pickaxe'][curr_idx], data['inventory_stone_pickaxe'][curr_idx],\n",
    "            data['inventory_iron_pickaxe'][curr_idx], data['inventory_wood_sword'][curr_idx],\n",
    "            data['inventory_stone_sword'][curr_idx], data['inventory_iron_sword'][curr_idx],\n",
    "        )\n",
    "    img = img.astype(np.int8)\n",
    "    plt.imshow(img.T)\n",
    "    print(img.shape)\n",
    "    print(img.dtype)\n",
    "    "
   ]
  },
  {
   "cell_type": "code",
   "execution_count": 26,
   "metadata": {},
   "outputs": [
    {
     "name": "stdout",
     "output_type": "stream",
     "text": [
      "Discrete(17)\n"
     ]
    }
   ],
   "source": [
    "print(env.action_space)"
   ]
  },
  {
   "cell_type": "code",
   "execution_count": 36,
   "metadata": {},
   "outputs": [
    {
     "name": "stdout",
     "output_type": "stream",
     "text": [
      "Saved file (294, 9, 9) (294,)\n",
      "Saved file (777, 9, 9) (777,)\n",
      "Saved file (444, 9, 9) (444,)\n",
      "Saved file (273, 9, 9) (273,)\n",
      "Saved file (652, 9, 9) (652,)\n",
      "Saved file (678, 9, 9) (678,)\n",
      "Saved file (268, 9, 9) (268,)\n",
      "Saved file (896, 9, 9) (896,)\n",
      "Saved file (614, 9, 9) (614,)\n",
      "Saved file (808, 9, 9) (808,)\n",
      "Saved file (516, 9, 9) (516,)\n",
      "Saved file (800, 9, 9) (800,)\n",
      "Saved file (825, 9, 9) (825,)\n",
      "Saved file (217, 9, 9) (217,)\n",
      "Saved file (353, 9, 9) (353,)\n",
      "Saved file (644, 9, 9) (644,)\n",
      "Saved file (330, 9, 9) (330,)\n",
      "Saved file (259, 9, 9) (259,)\n",
      "Saved file (206, 9, 9) (206,)\n",
      "Saved file (194, 9, 9) (194,)\n",
      "Saved file (229, 9, 9) (229,)\n",
      "Saved file (903, 9, 9) (903,)\n",
      "Saved file (602, 9, 9) (602,)\n",
      "Saved file (318, 9, 9) (318,)\n",
      "Saved file (281, 9, 9) (281,)\n",
      "Saved file (765, 9, 9) (765,)\n",
      "Saved file (259, 9, 9) (259,)\n",
      "Saved file (282, 9, 9) (282,)\n",
      "Saved file (271, 9, 9) (271,)\n",
      "Saved file (180, 9, 9) (180,)\n",
      "Saved file (312, 9, 9) (312,)\n",
      "Saved file (989, 9, 9) (989,)\n",
      "Saved file (522, 9, 9) (522,)\n",
      "Saved file (294, 9, 9) (294,)\n",
      "Saved file (304, 9, 9) (304,)\n",
      "Saved file (274, 9, 9) (274,)\n",
      "Saved file (592, 9, 9) (592,)\n",
      "Saved file (2777, 9, 9) (2777,)\n",
      "Saved file (607, 9, 9) (607,)\n",
      "Saved file (494, 9, 9) (494,)\n",
      "Saved file (304, 9, 9) (304,)\n",
      "Saved file (582, 9, 9) (582,)\n",
      "Saved file (288, 9, 9) (288,)\n",
      "Saved file (1311, 9, 9) (1311,)\n",
      "Saved file (699, 9, 9) (699,)\n",
      "Saved file (490, 9, 9) (490,)\n",
      "Saved file (985, 9, 9) (985,)\n",
      "Saved file (988, 9, 9) (988,)\n",
      "Saved file (162, 9, 9) (162,)\n",
      "Saved file (590, 9, 9) (590,)\n",
      "Saved file (244, 9, 9) (244,)\n",
      "Saved file (315, 9, 9) (315,)\n",
      "Saved file (275, 9, 9) (275,)\n",
      "Saved file (666, 9, 9) (666,)\n",
      "Saved file (536, 9, 9) (536,)\n",
      "Saved file (1658, 9, 9) (1658,)\n",
      "Saved file (954, 9, 9) (954,)\n",
      "Saved file (851, 9, 9) (851,)\n",
      "Saved file (342, 9, 9) (342,)\n",
      "Saved file (495, 9, 9) (495,)\n",
      "Saved file (1087, 9, 9) (1087,)\n",
      "Saved file (2336, 9, 9) (2336,)\n",
      "Saved file (447, 9, 9) (447,)\n",
      "Saved file (664, 9, 9) (664,)\n",
      "Saved file (486, 9, 9) (486,)\n",
      "Saved file (426, 9, 9) (426,)\n",
      "Saved file (907, 9, 9) (907,)\n",
      "Saved file (2280, 9, 9) (2280,)\n",
      "Saved file (284, 9, 9) (284,)\n",
      "Saved file (304, 9, 9) (304,)\n",
      "Saved file (755, 9, 9) (755,)\n",
      "Saved file (326, 9, 9) (326,)\n",
      "Saved file (536, 9, 9) (536,)\n",
      "Saved file (1655, 9, 9) (1655,)\n",
      "Saved file (438, 9, 9) (438,)\n",
      "Saved file (344, 9, 9) (344,)\n",
      "Saved file (295, 9, 9) (295,)\n",
      "Saved file (358, 9, 9) (358,)\n",
      "Saved file (3143, 9, 9) (3143,)\n",
      "Saved file (346, 9, 9) (346,)\n",
      "Saved file (726, 9, 9) (726,)\n",
      "Saved file (294, 9, 9) (294,)\n",
      "Saved file (330, 9, 9) (330,)\n",
      "Saved file (302, 9, 9) (302,)\n",
      "Saved file (326, 9, 9) (326,)\n",
      "Saved file (330, 9, 9) (330,)\n",
      "Saved file (307, 9, 9) (307,)\n",
      "Saved file (450, 9, 9) (450,)\n",
      "Saved file (551, 9, 9) (551,)\n",
      "Saved file (421, 9, 9) (421,)\n",
      "Saved file (304, 9, 9) (304,)\n",
      "Saved file (286, 9, 9) (286,)\n",
      "Saved file (289, 9, 9) (289,)\n",
      "Saved file (276, 9, 9) (276,)\n",
      "Saved file (800, 9, 9) (800,)\n",
      "Saved file (1997, 9, 9) (1997,)\n",
      "Saved file (1733, 9, 9) (1733,)\n",
      "Saved file (282, 9, 9) (282,)\n",
      "Saved file (247, 9, 9) (247,)\n",
      "Saved file (196, 9, 9) (196,)\n"
     ]
    }
   ],
   "source": [
    "for file in os.listdir('./dataset/'):\n",
    "    local_semantics = []\n",
    "    actions = []\n",
    "    with np.load('./dataset/' + os.sep + file) as data:\n",
    "        for curr_idx in range(1, data['image'].shape[0]):\n",
    "            semantic = create_local_semantic(\n",
    "                data['semantic'][curr_idx], data['player_pos'][curr_idx][0], data['player_pos'][curr_idx][1],\n",
    "                data['inventory_health'][curr_idx], data['inventory_food'][curr_idx],\n",
    "                data['inventory_drink'][curr_idx], data['inventory_energy'][curr_idx],\n",
    "                data['inventory_sapling'][curr_idx], data['inventory_wood'][curr_idx],\n",
    "                data['inventory_stone'][curr_idx], data['inventory_coal'][curr_idx],\n",
    "                data['inventory_iron'][curr_idx], data['inventory_diamond'][curr_idx],\n",
    "                data['inventory_wood_pickaxe'][curr_idx], data['inventory_stone_pickaxe'][curr_idx],\n",
    "                data['inventory_iron_pickaxe'][curr_idx], data['inventory_wood_sword'][curr_idx],\n",
    "                data['inventory_stone_sword'][curr_idx], data['inventory_iron_sword'][curr_idx],\n",
    "            )\n",
    "            local_semantics.append(semantic)\n",
    "            actions.append(data['action'][curr_idx])\n",
    "\n",
    "    local_semantics = np.array(local_semantics, dtype=np.int8)\n",
    "    actions = np.array(actions, dtype=np.int8)\n",
    "    np.savez('dataset-semantic/'+file, local_semantics=local_semantics, actions=actions)\n",
    "    print(\"Saved file\", local_semantics.shape, actions.shape)"
   ]
  },
  {
   "cell_type": "code",
   "execution_count": 43,
   "metadata": {},
   "outputs": [
    {
     "name": "stdout",
     "output_type": "stream",
     "text": [
      "Mean: 2.6722936088015454, standard deviation: 2.7441852320284763, Max: 15\n",
      "Mean: 2.423291950525066, standard deviation: 2.702386592547214, Max: 18\n",
      "Mean: 2.6043270993766043, standard deviation: 2.7385690495790826, Max: 18\n",
      "Mean: 2.6453724417930236, standard deviation: 2.6948244215603645, Max: 18\n",
      "Mean: 2.664131754705525, standard deviation: 2.7015250983019294, Max: 18\n",
      "Mean: 2.7814838571734017, standard deviation: 2.8964176955575613, Max: 18\n",
      "Mean: 2.7642762865247605, standard deviation: 2.8730103315703546, Max: 18\n",
      "Mean: 2.800551836282803, standard deviation: 2.8345304086710637, Max: 18\n",
      "Mean: 2.8042392883079157, standard deviation: 2.8067642985034187, Max: 18\n",
      "Mean: 2.8386512388966807, standard deviation: 2.8243366799083085, Max: 18\n",
      "Mean: 2.828690802270652, standard deviation: 2.8184572149867466, Max: 18\n",
      "Mean: 2.8533150434385, standard deviation: 2.8162749565269105, Max: 18\n",
      "Mean: 2.8880626962207585, standard deviation: 2.82301829376856, Max: 18\n",
      "Mean: 2.8904692338083557, standard deviation: 2.819859772728149, Max: 18\n",
      "Mean: 2.896661605158337, standard deviation: 2.8209121173069973, Max: 18\n",
      "Mean: 2.920579629561489, standard deviation: 2.834841769423517, Max: 18\n",
      "Mean: 2.912129902473212, standard deviation: 2.8257634410663486, Max: 18\n",
      "Mean: 2.917636611182769, standard deviation: 2.8386112350360397, Max: 18\n",
      "Mean: 2.9163828939554532, standard deviation: 2.8367173081250336, Max: 18\n",
      "Mean: 2.914939156247543, standard deviation: 2.8345722641365034, Max: 18\n",
      "Mean: 2.910844904779581, standard deviation: 2.8321518668153587, Max: 18\n",
      "Mean: 2.9088274917732284, standard deviation: 2.8127628785138175, Max: 18\n",
      "Mean: 2.9199616070549133, standard deviation: 2.8053450818054757, Max: 18\n",
      "Mean: 2.9266289154167944, standard deviation: 2.7989760126978096, Max: 18\n",
      "Mean: 2.930313373438592, standard deviation: 2.7960245507252646, Max: 18\n",
      "Mean: 2.914738182576308, standard deviation: 2.8201395129765165, Max: 18\n",
      "Mean: 2.9135286722754086, standard deviation: 2.817845079616491, Max: 18\n",
      "Mean: 2.9158641118408295, standard deviation: 2.809624004409917, Max: 18\n",
      "Mean: 2.9218997380147496, standard deviation: 2.8089914525469366, Max: 18\n",
      "Mean: 2.9226521990467855, standard deviation: 2.810262850389164, Max: 18\n",
      "Mean: 2.9189106753812637, standard deviation: 2.80782712156785, Max: 18\n",
      "Mean: 2.9292556368791876, standard deviation: 2.819195685303773, Max: 18\n",
      "Mean: 2.931505111610786, standard deviation: 2.8165427933099436, Max: 18\n",
      "Mean: 2.930160900159875, standard deviation: 2.8111001777171376, Max: 18\n",
      "Mean: 2.9312529309711106, standard deviation: 2.8080384193502517, Max: 18\n",
      "Mean: 2.9332374018407403, standard deviation: 2.8068644425753564, Max: 18\n",
      "Mean: 2.930509237118515, standard deviation: 2.799281950202482, Max: 18\n",
      "Mean: 2.938835049946161, standard deviation: 2.8450718702802584, Max: 18\n",
      "Mean: 2.9354635844295767, standard deviation: 2.8378578444182154, Max: 18\n",
      "Mean: 2.9443154995268155, standard deviation: 2.839170570458684, Max: 18\n",
      "Mean: 2.947905542728208, standard deviation: 2.8380845855738204, Max: 18\n",
      "Mean: 2.955025540961515, standard deviation: 2.8455832767401734, Max: 18\n",
      "Mean: 2.9523584327902817, standard deviation: 2.845178988078511, Max: 18\n",
      "Mean: 2.94199015168972, standard deviation: 2.8282778471496073, Max: 18\n",
      "Mean: 2.9342236016389647, standard deviation: 2.826193685503127, Max: 18\n",
      "Mean: 2.941413754975565, standard deviation: 2.823853047938812, Max: 18\n",
      "Mean: 2.9610042597870962, standard deviation: 2.8373111078250215, Max: 18\n",
      "Mean: 2.969947548042786, standard deviation: 2.84024871160283, Max: 18\n",
      "Mean: 2.9693156690673166, standard deviation: 2.8388920933920763, Max: 18\n",
      "Mean: 2.971540584937933, standard deviation: 2.836803120120765, Max: 18\n",
      "Mean: 2.968809776880103, standard deviation: 2.8344908211495223, Max: 18\n",
      "Mean: 2.9691285945251953, standard deviation: 2.8342585819397352, Max: 18\n",
      "Mean: 2.967047904834093, standard deviation: 2.833814904803704, Max: 18\n",
      "Mean: 2.9651816508424504, standard deviation: 2.823387132768432, Max: 18\n",
      "Mean: 2.963938976526687, standard deviation: 2.8166804274211685, Max: 18\n",
      "Mean: 2.9674174110408025, standard deviation: 2.80976194232428, Max: 18\n",
      "Mean: 2.9726013700459863, standard deviation: 2.816345746388392, Max: 18\n",
      "Mean: 2.9729600588410063, standard deviation: 2.8089453990048083, Max: 18\n",
      "Mean: 2.974898996423607, standard deviation: 2.808315456750584, Max: 18\n",
      "Mean: 2.964658598704861, standard deviation: 2.8054140544141344, Max: 18\n",
      "Mean: 2.9681258292693644, standard deviation: 2.7979374089130578, Max: 18\n",
      "Mean: 3.00304679006084, standard deviation: 2.852941059619597, Max: 18\n",
      "Mean: 3.003721811220668, standard deviation: 2.85189807109797, Max: 18\n",
      "Mean: 3.0062592579789857, standard deviation: 2.8498913388532223, Max: 18\n",
      "Mean: 3.005984768457672, standard deviation: 2.848773416292123, Max: 18\n",
      "Mean: 3.009626652958973, standard deviation: 2.8536724827827293, Max: 18\n",
      "Mean: 3.013247358918424, standard deviation: 2.847237646574584, Max: 18\n",
      "Mean: 3.025381102787304, standard deviation: 2.866570935196176, Max: 18\n",
      "Mean: 3.024908639676032, standard deviation: 2.8638897003184174, Max: 18\n",
      "Mean: 3.024332337608188, standard deviation: 2.8621350763908806, Max: 18\n",
      "Mean: 3.026351323680961, standard deviation: 2.861333916876387, Max: 18\n",
      "Mean: 3.021998362819292, standard deviation: 2.8609602041282725, Max: 18\n",
      "Mean: 3.0211765974608773, standard deviation: 2.8610453969882936, Max: 18\n",
      "Mean: 3.0301458393196516, standard deviation: 2.879157388156787, Max: 18\n",
      "Mean: 3.0311991965281013, standard deviation: 2.878771573887551, Max: 18\n",
      "Mean: 3.0304478736692575, standard deviation: 2.8769952825739065, Max: 18\n",
      "Mean: 3.0294462389348404, standard deviation: 2.875417606785911, Max: 18\n",
      "Mean: 3.029410235542357, standard deviation: 2.8751815928059004, Max: 18\n",
      "Mean: 3.0372602346618667, standard deviation: 2.937786368083496, Max: 18\n",
      "Mean: 3.037013283811457, standard deviation: 2.936479737924823, Max: 18\n",
      "Mean: 3.03014743789483, standard deviation: 2.938913582311827, Max: 18\n",
      "Mean: 3.0318227962757103, standard deviation: 2.940958355118798, Max: 18\n",
      "Mean: 3.0308100734007373, standard deviation: 2.9401688096887373, Max: 18\n",
      "Mean: 3.0330964716701687, standard deviation: 2.942246221035448, Max: 18\n",
      "Mean: 3.03500356856273, standard deviation: 2.944725383188982, Max: 18\n",
      "Mean: 3.034687906663057, standard deviation: 2.945341807155703, Max: 18\n",
      "Mean: 3.034486388243863, standard deviation: 2.9433714378287803, Max: 18\n",
      "Mean: 3.034186797460214, standard deviation: 2.9428190547163653, Max: 18\n",
      "Mean: 3.0338736683576375, standard deviation: 2.941777185745446, Max: 18\n",
      "Mean: 3.0336660695391084, standard deviation: 2.9406225196681595, Max: 18\n",
      "Mean: 3.032341581192156, standard deviation: 2.9380042149577825, Max: 18\n",
      "Mean: 3.0319635577710065, standard deviation: 2.936229791533907, Max: 18\n",
      "Mean: 3.030245610484859, standard deviation: 2.9347976745620894, Max: 18\n",
      "Mean: 3.0301313723913332, standard deviation: 2.9360112963675267, Max: 18\n",
      "Mean: 3.0290747864859653, standard deviation: 2.9382656764683777, Max: 18\n",
      "Mean: 3.0375595746925628, standard deviation: 2.950977271768257, Max: 18\n",
      "Mean: 3.044954359309972, standard deviation: 2.959595382901078, Max: 18\n",
      "Mean: 3.0449933600218073, standard deviation: 2.958784719365093, Max: 18\n",
      "Mean: 3.0443186788166745, standard deviation: 2.9572750338541245, Max: 18\n",
      "Mean: 3.0443263366109155, standard deviation: 2.9562059222650454, Max: 18\n",
      "Final Mean: 3.0443263366109155, standard deviation: 2.9562059222650454\n"
     ]
    }
   ],
   "source": [
    "local_semantics = []\n",
    "actions = []\n",
    "for file in os.listdir('./dataset/'):\n",
    "    \n",
    "    with np.load('./dataset/' + os.sep + file) as data:\n",
    "        for curr_idx in range(1, data['image'].shape[0]):\n",
    "            semantic = create_local_semantic(\n",
    "                data['semantic'][curr_idx], data['player_pos'][curr_idx][0], data['player_pos'][curr_idx][1],\n",
    "                data['inventory_health'][curr_idx], data['inventory_food'][curr_idx],\n",
    "                data['inventory_drink'][curr_idx], data['inventory_energy'][curr_idx],\n",
    "                data['inventory_sapling'][curr_idx], data['inventory_wood'][curr_idx],\n",
    "                data['inventory_stone'][curr_idx], data['inventory_coal'][curr_idx],\n",
    "                data['inventory_iron'][curr_idx], data['inventory_diamond'][curr_idx],\n",
    "                data['inventory_wood_pickaxe'][curr_idx], data['inventory_stone_pickaxe'][curr_idx],\n",
    "                data['inventory_iron_pickaxe'][curr_idx], data['inventory_wood_sword'][curr_idx],\n",
    "                data['inventory_stone_sword'][curr_idx], data['inventory_iron_sword'][curr_idx],\n",
    "            )\n",
    "            local_semantics.append(semantic)\n",
    "            actions.append(data['action'][curr_idx])\n",
    "\n",
    "    print(f\"Mean: {np.mean(local_semantics)}, standard deviation: {np.std(local_semantics)}, Max: {np.max(local_semantics)}\")\n",
    "\n",
    "print(f\"Final Mean: {np.mean(local_semantics)}, standard deviation: {np.std(local_semantics)}\")\n"
   ]
  }
 ],
 "metadata": {
  "kernelspec": {
   "display_name": "master",
   "language": "python",
   "name": "python3"
  },
  "language_info": {
   "codemirror_mode": {
    "name": "ipython",
    "version": 3
   },
   "file_extension": ".py",
   "mimetype": "text/x-python",
   "name": "python",
   "nbconvert_exporter": "python",
   "pygments_lexer": "ipython3",
   "version": "3.9.7"
  },
  "orig_nbformat": 4
 },
 "nbformat": 4,
 "nbformat_minor": 2
}
