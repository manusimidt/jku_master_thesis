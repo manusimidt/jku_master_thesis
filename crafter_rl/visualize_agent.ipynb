{
 "cells": [
  {
   "cell_type": "code",
   "execution_count": 5,
   "metadata": {},
   "outputs": [],
   "source": [
    "import os\n",
    "# change directory in order to be able to import python scripts from the common package\n",
    "if os.getcwd().endswith('crafter_rl'): os.chdir(os.path.expanduser(\"..\"))"
   ]
  },
  {
   "cell_type": "code",
   "execution_count": 6,
   "metadata": {},
   "outputs": [],
   "source": [
    "from env import VanillaEnv, CrafterReplayBuffer, create_local_semantic\n",
    "import numpy as np\n",
    "import matplotlib.pyplot as plt\n",
    "import os\n",
    "import random\n",
    "import crafter\n",
    "from policy import ActorFCNet\n",
    "import torch\n",
    "import cv2"
   ]
  },
  {
   "cell_type": "code",
   "execution_count": 9,
   "metadata": {},
   "outputs": [
    {
     "name": "stderr",
     "output_type": "stream",
     "text": [
      "C:\\Users\\manus\\AppData\\Local\\Temp\\ipykernel_11452\\2069232737.py:46: VisibleDeprecationWarning: Creating an ndarray from ragged nested sequences (which is a list-or-tuple of lists-or-tuples-or ndarrays with different lengths or shapes) is deprecated. If you meant to do this, you must specify 'dtype=object' when creating the ndarray.\n",
      "  frames, episode_return = np.array(play_episode(model, VanillaEnv(seed=1, semantic=True)))\n"
     ]
    },
    {
     "name": "stdout",
     "output_type": "stream",
     "text": [
      "2.099999999999999\n"
     ]
    }
   ],
   "source": [
    "folder_name: str = './crafter_rl/experiments/231015-084433/'\n",
    "\n",
    "def play_episode(model: ActorFCNet, seed=1)->bool:\n",
    "    \"\"\"\n",
    "    returns true of the episode is concidered solved\n",
    "    \"\"\"\n",
    "    env = crafter.Env( size=(512, 512))\n",
    "\n",
    "    model.eval()\n",
    "    done = False\n",
    "    episode_return = 0\n",
    "    obs = env.reset()\n",
    "    frames = [obs]\n",
    "    semantic = np.zeros((1, 9, 9), dtype=np.float32)\n",
    "    while not done:       \n",
    "        action_logits = model.forward(torch.FloatTensor(semantic).unsqueeze(0), contrastive=False)\n",
    "        action = torch.argmax(action_logits)\n",
    "        obs, rewards, done, info = env.step(action.item())\n",
    "        semantic = create_local_semantic(\n",
    "                info['semantic'], info['player_pos'][0], info['player_pos'][1],\n",
    "                info['inventory']['health'], info['inventory']['food'],\n",
    "                info['inventory']['drink'], info['inventory']['energy'],\n",
    "                info['inventory']['sapling'], info['inventory']['wood'],\n",
    "                info['inventory']['stone'], info['inventory']['coal'],\n",
    "                info['inventory']['iron'], info['inventory']['diamond'],\n",
    "                info['inventory']['wood_pickaxe'], info['inventory']['stone_pickaxe'],\n",
    "                info['inventory']['iron_pickaxe'], info['inventory']['wood_sword'],\n",
    "                info['inventory']['stone_sword'], info['inventory']['iron_sword'],\n",
    "            )\n",
    "        semantic = semantic.astype(np.float32).reshape((1, 9, 9))\n",
    "        episode_return += rewards\n",
    "        frames.append(obs)\n",
    "    return frames, episode_return\n",
    "\n",
    "\n",
    "\n",
    "models_names = [n for n in os.listdir(folder_name) if n.endswith('.pth')]\n",
    "for models_name in models_names:\n",
    "    model = ActorFCNet()\n",
    "\n",
    "    ckp = torch.load(folder_name + models_name, map_location=torch.device('cpu'))\n",
    "    model.load_state_dict(ckp['state_dict'])\n",
    "\n",
    "    episode_return = 0\n",
    "    while episode_return < 2:\n",
    "        frames, episode_return = np.array(play_episode(model, VanillaEnv(seed=1, semantic=True)))\n",
    "        print(episode_return)\n",
    "\n",
    "    fps = 8\n",
    "    out = cv2.VideoWriter('output.mp4', cv2.VideoWriter_fourcc(*'DIVX'), fps, (512,512))\n",
    "\n",
    "    for i in range(len(frames)):\n",
    "        rgb_img = cv2.cvtColor(frames[i], cv2.COLOR_RGB2BGR)\n",
    "        out.write(rgb_img)\n",
    "    out.release()"
   ]
  }
 ],
 "metadata": {
  "kernelspec": {
   "display_name": "master",
   "language": "python",
   "name": "python3"
  },
  "language_info": {
   "codemirror_mode": {
    "name": "ipython",
    "version": 3
   },
   "file_extension": ".py",
   "mimetype": "text/x-python",
   "name": "python",
   "nbconvert_exporter": "python",
   "pygments_lexer": "ipython3",
   "version": "3.9.7"
  },
  "orig_nbformat": 4
 },
 "nbformat": 4,
 "nbformat_minor": 2
}
