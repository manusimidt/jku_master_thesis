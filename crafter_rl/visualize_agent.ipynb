{
 "cells": [
  {
   "cell_type": "code",
   "execution_count": 1,
   "metadata": {},
   "outputs": [],
   "source": [
    "import os\n",
    "# change directory in order to be able to import python scripts from the common package\n",
    "if os.getcwd().endswith('crafter_rl'): os.chdir(os.path.expanduser(\"..\"))"
   ]
  },
  {
   "cell_type": "code",
   "execution_count": 2,
   "metadata": {},
   "outputs": [],
   "source": [
    "from env import VanillaEnv, CrafterReplayBuffer, create_local_semantic\n",
    "import numpy as np\n",
    "import matplotlib.pyplot as plt\n",
    "import os\n",
    "import random\n",
    "import crafter\n",
    "from policy import ActorFCNet\n",
    "import torch\n",
    "import cv2"
   ]
  },
  {
   "cell_type": "code",
   "execution_count": 3,
   "metadata": {},
   "outputs": [
    {
     "name": "stderr",
     "output_type": "stream",
     "text": [
      "c:\\Users\\manus\\miniconda3\\envs\\master\\lib\\site-packages\\crafter\\engine.py:126: DeprecationWarning: Starting with ImageIO v3 the behavior of this function will switch to that of iio.v3.imread. To keep the current behavior (and make this warning disappear) use `import imageio.v2 as imageio` or call `imageio.v2.imread` directly.\n",
      "  image = imageio.imread(filename.read_bytes())\n",
      "c:\\Users\\manus\\miniconda3\\envs\\master\\lib\\site-packages\\crafter\\worldgen.py:12: DeprecationWarning: `np.bool` is a deprecated alias for the builtin `bool`. To silence this warning, use `bool` by itself. Doing this will not modify any behavior and is safe. If you specifically wanted the numpy scalar type, use `np.bool_` here.\n",
      "Deprecated in NumPy 1.20; for more details and guidance: https://numpy.org/devdocs/release/1.20.0-notes.html#deprecations\n",
      "  tunnels = np.zeros(world.area, np.bool)\n",
      "C:\\Users\\manus\\AppData\\Local\\Temp\\ipykernel_14248\\2069232737.py:46: VisibleDeprecationWarning: Creating an ndarray from ragged nested sequences (which is a list-or-tuple of lists-or-tuples-or ndarrays with different lengths or shapes) is deprecated. If you meant to do this, you must specify 'dtype=object' when creating the ndarray.\n",
      "  frames, episode_return = np.array(play_episode(model, VanillaEnv(seed=1, semantic=True)))\n",
      "c:\\Users\\manus\\miniconda3\\envs\\master\\lib\\site-packages\\crafter\\engine.py:126: DeprecationWarning: Starting with ImageIO v3 the behavior of this function will switch to that of iio.v3.imread. To keep the current behavior (and make this warning disappear) use `import imageio.v2 as imageio` or call `imageio.v2.imread` directly.\n",
      "  image = imageio.imread(filename.read_bytes())\n",
      "c:\\Users\\manus\\miniconda3\\envs\\master\\lib\\site-packages\\crafter\\worldgen.py:12: DeprecationWarning: `np.bool` is a deprecated alias for the builtin `bool`. To silence this warning, use `bool` by itself. Doing this will not modify any behavior and is safe. If you specifically wanted the numpy scalar type, use `np.bool_` here.\n",
      "Deprecated in NumPy 1.20; for more details and guidance: https://numpy.org/devdocs/release/1.20.0-notes.html#deprecations\n",
      "  tunnels = np.zeros(world.area, np.bool)\n"
     ]
    },
    {
     "name": "stdout",
     "output_type": "stream",
     "text": [
      "-0.8999999999999999\n",
      "0.10000000000000009\n",
      "1.0999999999999999\n",
      "-0.8999999999999999\n",
      "2.1\n"
     ]
    }
   ],
   "source": [
    "folder_name: str = './crafter_rl/experiments/231015-084433/'\n",
    "\n",
    "def play_episode(model: ActorFCNet, seed=1)->bool:\n",
    "    \"\"\"\n",
    "    returns true of the episode is concidered solved\n",
    "    \"\"\"\n",
    "    env = crafter.Env( size=(512, 512))\n",
    "\n",
    "    model.eval()\n",
    "    done = False\n",
    "    episode_return = 0\n",
    "    obs = env.reset()\n",
    "    frames = [obs]\n",
    "    semantic = np.zeros((1, 9, 9), dtype=np.float32)\n",
    "    while not done:       \n",
    "        action_logits = model.forward(torch.FloatTensor(semantic).unsqueeze(0), contrastive=False)\n",
    "        action = torch.argmax(action_logits)\n",
    "        obs, rewards, done, info = env.step(action.item())\n",
    "        semantic = create_local_semantic(\n",
    "                info['semantic'], info['player_pos'][0], info['player_pos'][1],\n",
    "                info['inventory']['health'], info['inventory']['food'],\n",
    "                info['inventory']['drink'], info['inventory']['energy'],\n",
    "                info['inventory']['sapling'], info['inventory']['wood'],\n",
    "                info['inventory']['stone'], info['inventory']['coal'],\n",
    "                info['inventory']['iron'], info['inventory']['diamond'],\n",
    "                info['inventory']['wood_pickaxe'], info['inventory']['stone_pickaxe'],\n",
    "                info['inventory']['iron_pickaxe'], info['inventory']['wood_sword'],\n",
    "                info['inventory']['stone_sword'], info['inventory']['iron_sword'],\n",
    "            )\n",
    "        semantic = semantic.astype(np.float32).reshape((1, 9, 9))\n",
    "        episode_return += rewards\n",
    "        frames.append(obs)\n",
    "    return frames, episode_return\n",
    "\n",
    "\n",
    "\n",
    "models_names = [n for n in os.listdir(folder_name) if n.endswith('.pth')]\n",
    "for models_name in models_names:\n",
    "    model = ActorFCNet()\n",
    "\n",
    "    ckp = torch.load(folder_name + models_name, map_location=torch.device('cpu'))\n",
    "    model.load_state_dict(ckp['state_dict'])\n",
    "\n",
    "    episode_return = 0\n",
    "    while episode_return < 2:\n",
    "        frames, episode_return = np.array(play_episode(model, VanillaEnv(seed=1, semantic=True)))\n",
    "        print(episode_return)\n",
    "\n",
    "    fps = 8\n",
    "    out = cv2.VideoWriter('output.mp4', cv2.VideoWriter_fourcc(*'DIVX'), fps, (512,512))\n",
    "\n",
    "    for i in range(len(frames)):\n",
    "        rgb_img = cv2.cvtColor(frames[i], cv2.COLOR_RGB2BGR)\n",
    "        out.write(rgb_img)\n",
    "    out.release()"
   ]
  },
  {
   "cell_type": "code",
   "execution_count": null,
   "metadata": {},
   "outputs": [
    {
     "name": "stderr",
     "output_type": "stream",
     "text": [
      "C:\\Users\\manus\\AppData\\Local\\Temp\\ipykernel_18972\\2610357289.py:35: VisibleDeprecationWarning: Creating an ndarray from ragged nested sequences (which is a list-or-tuple of lists-or-tuples-or ndarrays with different lengths or shapes) is deprecated. If you meant to do this, you must specify 'dtype=object' when creating the ndarray.\n",
      "  frames, episode_return = np.array(play_episode(model, VanillaEnv(start_level=0, num_levels=0)))\n"
     ]
    },
    {
     "name": "stdout",
     "output_type": "stream",
     "text": [
      "-0.3921568627450911\n",
      "0.5968627450980625\n",
      "11.03843137254902\n"
     ]
    }
   ],
   "source": []
  }
 ],
 "metadata": {
  "kernelspec": {
   "display_name": "master",
   "language": "python",
   "name": "python3"
  },
  "language_info": {
   "codemirror_mode": {
    "name": "ipython",
    "version": 3
   },
   "file_extension": ".py",
   "mimetype": "text/x-python",
   "name": "python",
   "nbconvert_exporter": "python",
   "pygments_lexer": "ipython3",
   "version": "3.9.7"
  },
  "orig_nbformat": 4
 },
 "nbformat": 4,
 "nbformat_minor": 2
}
