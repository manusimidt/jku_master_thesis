{
 "cells": [
  {
   "cell_type": "code",
   "execution_count": 1,
   "metadata": {},
   "outputs": [],
   "source": [
    "import os\n",
    "# change directory in order to be able to import python scripts from the common package\n",
    "if os.getcwd().endswith('coinrun'): os.chdir(os.path.expanduser(\"..\"))"
   ]
  },
  {
   "cell_type": "code",
   "execution_count": 2,
   "metadata": {},
   "outputs": [],
   "source": [
    "from env import CoinRunReplayBuffer, VanillaEnv\n",
    "import numpy as np\n",
    "import matplotlib.pyplot as plt\n",
    "import os\n",
    "import random\n",
    "import crafter\n",
    "from policy import CoinRunActor\n",
    "import torch\n",
    "import cv2"
   ]
  },
  {
   "cell_type": "code",
   "execution_count": 25,
   "metadata": {},
   "outputs": [
    {
     "name": "stdout",
     "output_type": "stream",
     "text": [
      "0.2062745098039419\n"
     ]
    },
    {
     "name": "stderr",
     "output_type": "stream",
     "text": [
      "C:\\Users\\manus\\AppData\\Local\\Temp\\ipykernel_29816\\765203631.py:34: VisibleDeprecationWarning: Creating an ndarray from ragged nested sequences (which is a list-or-tuple of lists-or-tuples-or ndarrays with different lengths or shapes) is deprecated. If you meant to do this, you must specify 'dtype=object' when creating the ndarray.\n",
      "  frames, episode_return = np.array(play_episode(model, VanillaEnv(start_level=105, num_levels=1)))\n"
     ]
    }
   ],
   "source": [
    "folder_name: str = './coinrun/experiments/231028-185708/'\n",
    "\n",
    "def play_episode(model: CoinRunActor, env)->bool:\n",
    "    \"\"\"\n",
    "    returns true of the episode is concidered solved\n",
    "    \"\"\"\n",
    "\n",
    "    model.eval()\n",
    "    done = False\n",
    "    episode_return = 0\n",
    "    obs = env.reset()\n",
    "    frames = [obs]\n",
    "    while not done:       \n",
    "        action_logits = model.forward(torch.FloatTensor(obs).unsqueeze(0), contrastive=False)\n",
    "        action = torch.argmax(action_logits)\n",
    "        obs, rewards, done, info = env.step(action.item())\n",
    "\n",
    "        \n",
    "        episode_return += rewards\n",
    "        frames.append(obs)\n",
    "    return frames, episode_return\n",
    "\n",
    "\n",
    "\n",
    "models_names = [n for n in os.listdir(folder_name) if n.endswith('.pth')]\n",
    "for models_name in models_names:\n",
    "    model = CoinRunActor()\n",
    "\n",
    "    ckp = torch.load(folder_name + models_name, map_location=torch.device('cpu'))\n",
    "    model.load_state_dict(ckp['state_dict'])\n",
    "\n",
    "    episode_return = -5\n",
    "    while episode_return < -1:\n",
    "        frames, episode_return = np.array(play_episode(model, VanillaEnv(start_level=110, num_levels=1)))\n",
    "        print(episode_return)\n",
    "\n",
    "    fps = 8\n",
    "    out = cv2.VideoWriter('output.mp4', cv2.VideoWriter_fourcc(*'DIVX'), fps, (64,64))\n",
    "\n",
    "    for i in range(len(frames)):\n",
    "        rgb_img = cv2.cvtColor(np.moveaxis(np.array(frames[i]*255, dtype=np.uint8), 0, -1), cv2.COLOR_RGB2BGR)\n",
    "        # rgb_img = np.moveaxis(np.array(frames[i]*255, dtype=np.int8), 0, -1)\n",
    "        out.write(rgb_img)\n",
    "    out.release()"
   ]
  }
 ],
 "metadata": {
  "kernelspec": {
   "display_name": "master",
   "language": "python",
   "name": "python3"
  },
  "language_info": {
   "codemirror_mode": {
    "name": "ipython",
    "version": 3
   },
   "file_extension": ".py",
   "mimetype": "text/x-python",
   "name": "python",
   "nbconvert_exporter": "python",
   "pygments_lexer": "ipython3",
   "version": "3.9.7"
  },
  "orig_nbformat": 4
 },
 "nbformat": 4,
 "nbformat_minor": 2
}
