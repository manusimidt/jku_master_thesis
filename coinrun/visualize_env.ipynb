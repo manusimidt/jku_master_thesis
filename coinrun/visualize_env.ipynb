{
 "cells": [
  {
   "cell_type": "code",
   "execution_count": 3,
   "metadata": {},
   "outputs": [],
   "source": [
    "from env import VanillaEnv\n",
    "import numpy as np\n",
    "import matplotlib.pyplot as plt\n",
    "import os\n",
    "import random\n"
   ]
  },
  {
   "cell_type": "code",
   "execution_count": 4,
   "metadata": {},
   "outputs": [
    {
     "name": "stdout",
     "output_type": "stream",
     "text": [
      "Done! Episode Reward:  6.472549019607843\n",
      "(3, 64, 64)\n"
     ]
    },
    {
     "data": {
      "image/png": "[encoded data removed]",
      "text/plain": [
       "<Figure size 640x480 with 1 Axes>"
      ]
     },
     "metadata": {},
     "output_type": "display_data"
    }
   ],
   "source": [
    "env =  VanillaEnv(start_level=1, num_levels=3)\n",
    "state = env.reset()\n",
    "done = False\n",
    "rewards = []\n",
    "frames_arr = []\n",
    "env.seed(1)\n",
    "np.random.seed(1)\n",
    "while not done:\n",
    "    action = np.random.randint(low=0, high=15)\n",
    "    next_state, r, done, info = env.step(action)\n",
    "    rewards.append(r)\n",
    "    frames_arr.append(state)\n",
    "    state = next_state\n",
    "    if done: \n",
    "        print(\"Done! Episode Reward: \", np.sum(rewards))\n",
    "        print(frames_arr[0].shape)\n",
    "        plt.imshow(np.moveaxis(frames_arr[5], 0, -1), vmin=0., vmax=1.)\n",
    "        break"
   ]
  },
  {
   "cell_type": "code",
   "execution_count": 5,
   "metadata": {},
   "outputs": [],
   "source": [
    "env =  VanillaEnv(start_level=1, num_levels=3, render_mode=\"human\")"
   ]
  },
  {
   "cell_type": "code",
   "execution_count": 6,
   "metadata": {},
   "outputs": [
    {
     "name": "stdout",
     "output_type": "stream",
     "text": [
      "-0.08000000000000002\n",
      "-0.0776470588235294\n",
      "-0.07529411764705883\n",
      "-0.07372549019607844\n",
      "-0.07137254901960784\n",
      "-0.06901960784313727\n",
      "-0.06666666666666668\n",
      "-0.06509803921568627\n",
      "-0.06274509803921569\n",
      "-0.061176470588235304\n",
      "-0.059607843137254916\n",
      "-0.05725490196078431\n",
      "-0.05568627450980393\n",
      "-0.05411764705882354\n",
      "-0.05254901960784313\n",
      "-0.050980392156862744\n",
      "-0.07529411764705883\n",
      "-0.10039215686274511\n",
      "-0.09803921568627452\n",
      "-0.09803921568627452\n"
     ]
    }
   ],
   "source": [
    "\n",
    "state = env.reset()\n",
    "done = False\n",
    "rewards = []\n",
    "frames_arr = []\n",
    "env.seed(1)\n",
    "np.random.seed(1)\n",
    "for _ in range(20):\n",
    "    action = 8\n",
    "    next_state, r, done, info = env.step(action)\n",
    "    print(r)\n",
    "    rewards.append(r)\n",
    "    frames_arr.append(state)\n",
    "    state = next_state\n",
    "    if done: \n",
    "        print(\"Done! Episode Reward: \", np.sum(rewards))\n",
    "        print(frames_arr[0].shape)\n",
    "        plt.imshow(np.moveaxis(frames_arr[5], 0, -1), vmin=0., vmax=1.)\n",
    "        break\n",
    "    "
   ]
  }
 ],
 "metadata": {
  "kernelspec": {
   "display_name": "master",
   "language": "python",
   "name": "python3"
  },
  "language_info": {
   "codemirror_mode": {
    "name": "ipython",
    "version": 3
   },
   "file_extension": ".py",
   "mimetype": "text/x-python",
   "name": "python",
   "nbconvert_exporter": "python",
   "pygments_lexer": "ipython3",
   "version": "3.9.7"
  },
  "orig_nbformat": 4
 },
 "nbformat": 4,
 "nbformat_minor": 2
}
